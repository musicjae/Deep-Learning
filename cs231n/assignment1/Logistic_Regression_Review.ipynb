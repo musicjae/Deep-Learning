{
  "nbformat": 4,
  "nbformat_minor": 0,
  "metadata": {
    "colab": {
      "name": "Logistic Regression Review.ipynb",
      "provenance": [],
      "authorship_tag": "ABX9TyNYH8I6xDb/BNKU/H6Ajzok",
      "include_colab_link": true
    },
    "kernelspec": {
      "name": "python3",
      "display_name": "Python 3"
    }
  },
  "cells": [
    {
      "cell_type": "markdown",
      "metadata": {
        "id": "view-in-github",
        "colab_type": "text"
      },
      "source": [
        "<a href=\"https://colab.research.google.com/github/musicjae/cs231n/blob/master/cs231n/assignment1/Logistic_Regression_Review.ipynb\" target=\"_parent\"><img src=\"https://colab.research.google.com/assets/colab-badge.svg\" alt=\"Open In Colab\"/></a>"
      ]
    },
    {
      "cell_type": "markdown",
      "metadata": {
        "id": "cdARCHHJu2no",
        "colab_type": "text"
      },
      "source": [
        "Instructions:\n",
        "\n",
        "> Do not use loops (for/while) in your code, unless the instructions explicitly ask you to do so.\n",
        "You will learn to:\n",
        "\n",
        "> Build the general architecture of a learning algorithm, including:\n",
        "Initializing parameters\n",
        "Calculating the cost function and its gradient\n",
        "Using an optimization algorithm (gradient descent)\n",
        "Gather all three functions above into a main model function, in the right order.  \n",
        "  \n",
        "https://www.coursera.org/learn/neural-networks-deep-learning/notebook/zAgPl/logistic-regression-with-a-neural-network-mindset"
      ]
    },
    {
      "cell_type": "code",
      "metadata": {
        "id": "93dehLWyucBw",
        "colab_type": "code",
        "colab": {}
      },
      "source": [
        "import numpy as np\n",
        "import matplotlib.pyplot as plt\n",
        "import h5py\n",
        "import scipy\n",
        "from PIL import Image\n",
        "from scipy import ndimage\n",
        "\n",
        "%matplotlib inline"
      ],
      "execution_count": 1,
      "outputs": []
    },
    {
      "cell_type": "markdown",
      "metadata": {
        "id": "CZEhsv_VYsiQ",
        "colab_type": "text"
      },
      "source": [
        "# 1. 데이터 분리"
      ]
    },
    {
      "cell_type": "code",
      "metadata": {
        "id": "r_32uuVDYw7S",
        "colab_type": "code",
        "colab": {}
      },
      "source": [
        "train_set_x_orig, train_set_y, test_set_x_orig, test_set_y, classes = load_dataset()"
      ],
      "execution_count": null,
      "outputs": []
    },
    {
      "cell_type": "markdown",
      "metadata": {
        "id": "ZQi7Eja5YxZk",
        "colab_type": "text"
      },
      "source": [
        "# 2. Flattening  \n",
        "  \n",
        "you should now reshape images of shape (num_px, num_px, 3) in a numpy-array of shape (num_px  ∗∗  num_px  ∗∗  3, 1).  \n",
        "> Trick: X_flatten = X.reshape(X.shape[0], -1).T"
      ]
    },
    {
      "cell_type": "code",
      "metadata": {
        "id": "jldI46omY3_B",
        "colab_type": "code",
        "colab": {}
      },
      "source": [
        "train_set_x_flatten = train_set_x_orig.reshape(train_set_x_orig.shape[0],-1).T # want to flatten a matrix X of shape (a,b,c,d) to a matrix X_flatten of shape (b ∗∗ c ∗∗ d, a)\n",
        "test_set_x_flatten = test_set_x_orig.reshape(test_set_x_orig.shape[0],-1).T"
      ],
      "execution_count": null,
      "outputs": []
    },
    {
      "cell_type": "markdown",
      "metadata": {
        "id": "uv_L-y7BZILW",
        "colab_type": "text"
      },
      "source": [
        "# 3. Standardization  \n",
        "> preprocessing"
      ]
    },
    {
      "cell_type": "code",
      "metadata": {
        "id": "-gWaW7PwZO5O",
        "colab_type": "code",
        "colab": {}
      },
      "source": [
        "train_set_x = train_set_x_flatten/255.\n",
        "test_set_x = test_set_x_flatten/255."
      ],
      "execution_count": null,
      "outputs": []
    },
    {
      "cell_type": "markdown",
      "metadata": {
        "id": "MAnxI0aVZlGO",
        "colab_type": "text"
      },
      "source": [
        "# 4. Learning "
      ]
    },
    {
      "cell_type": "markdown",
      "metadata": {
        "id": "LSqQceaVZqK6",
        "colab_type": "text"
      },
      "source": [
        "## 4.1 Initialization"
      ]
    },
    {
      "cell_type": "code",
      "metadata": {
        "id": "w3Z5D7E1ZxfP",
        "colab_type": "code",
        "colab": {}
      },
      "source": [
        "   w = np.zeros((dim,1))\n",
        "   b = 0"
      ],
      "execution_count": null,
      "outputs": []
    },
    {
      "cell_type": "markdown",
      "metadata": {
        "id": "vbsMfpvAZ1KQ",
        "colab_type": "text"
      },
      "source": [
        "## 4.2 Propagate"
      ]
    },
    {
      "cell_type": "code",
      "metadata": {
        "id": "d7YhQb-SZ2rM",
        "colab_type": "code",
        "colab": {}
      },
      "source": [
        ""
      ],
      "execution_count": null,
      "outputs": []
    },
    {
      "cell_type": "markdown",
      "metadata": {
        "id": "zEUonPXoui02",
        "colab_type": "text"
      },
      "source": [
        "# References  \n",
        "[1] Coursera, 'Neural Networks and Deep Learning' class week 2, hw."
      ]
    }
  ]
}