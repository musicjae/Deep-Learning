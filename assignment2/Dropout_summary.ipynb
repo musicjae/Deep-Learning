{
  "nbformat": 4,
  "nbformat_minor": 0,
  "metadata": {
    "colab": {
      "name": "Dropout_summary.ipynb",
      "provenance": [],
      "collapsed_sections": [],
      "authorship_tag": "ABX9TyNb2kPP0weGGdUU6fgf9HUA",
      "include_colab_link": true
    },
    "kernelspec": {
      "name": "python3",
      "display_name": "Python 3"
    }
  },
  "cells": [
    {
      "cell_type": "markdown",
      "metadata": {
        "id": "view-in-github",
        "colab_type": "text"
      },
      "source": [
        "<a href=\"https://colab.research.google.com/github/musicjae/cs231n/blob/master/assignment2/Dropout_summary.ipynb\" target=\"_parent\"><img src=\"https://colab.research.google.com/assets/colab-badge.svg\" alt=\"Open In Colab\"/></a>"
      ]
    },
    {
      "cell_type": "markdown",
      "metadata": {
        "id": "uFFLFVT8bXQi",
        "colab_type": "text"
      },
      "source": [
        "# 마운트"
      ]
    },
    {
      "cell_type": "code",
      "metadata": {
        "id": "wMBjzSMHbdZP",
        "colab_type": "code",
        "colab": {
          "base_uri": "https://localhost:8080/",
          "height": 156
        },
        "outputId": "23399cbc-055d-49e7-826b-e5b53e5b974d"
      },
      "source": [
        "from google.colab import drive\n",
        "drive.mount('/content/drive', force_remount=True)\n",
        "\n",
        "# enter the foldername in your Drive where you have saved the unzipped\n",
        "# assignment folder, e.g. 'cs231n/assignments/assignment3/'\n",
        "FOLDERNAME = 'Colab Notebooks/cs231n/assignments/assignment2'\n",
        "assert FOLDERNAME is not None, \"[!] Enter the foldername.\"\n",
        "\n",
        "# now that we've mounted your Drive, this ensures that\n",
        "# the Python interpreter of the Colab VM can load\n",
        "# python files from within it.\n",
        "import sys\n",
        "sys.path.append('/content/drive/My Drive/{}'.format(FOLDERNAME))\n",
        "\n",
        "# this downloads the CIFAR-10 dataset to your Drive\n",
        "# if it doesn't already exist.\n",
        "%cd drive/My\\ Drive/$FOLDERNAME/cs231n/datasets/\n",
        "!bash get_datasets.sh\n",
        "%cd /content"
      ],
      "execution_count": 1,
      "outputs": [
        {
          "output_type": "stream",
          "text": [
            "Go to this URL in a browser: https://accounts.google.com/o/oauth2/auth?client_id=947318989803-6bn6qk8qdgf4n4g3pfee6491hc0brc4i.apps.googleusercontent.com&redirect_uri=urn%3aietf%3awg%3aoauth%3a2.0%3aoob&response_type=code&scope=email%20https%3a%2f%2fwww.googleapis.com%2fauth%2fdocs.test%20https%3a%2f%2fwww.googleapis.com%2fauth%2fdrive%20https%3a%2f%2fwww.googleapis.com%2fauth%2fdrive.photos.readonly%20https%3a%2f%2fwww.googleapis.com%2fauth%2fpeopleapi.readonly\n",
            "\n",
            "Enter your authorization code:\n",
            "··········\n",
            "Mounted at /content/drive\n",
            "/content/drive/My Drive/Colab Notebooks/cs231n/assignments/assignment2/cs231n/datasets\n",
            "/content\n"
          ],
          "name": "stdout"
        }
      ]
    },
    {
      "cell_type": "markdown",
      "metadata": {
        "id": "RzxSwSrGcZaG",
        "colab_type": "text"
      },
      "source": [
        "# 데이터 로드"
      ]
    },
    {
      "cell_type": "code",
      "metadata": {
        "id": "M73XxvKGcY8i",
        "colab_type": "code",
        "colab": {
          "base_uri": "https://localhost:8080/",
          "height": 105
        },
        "outputId": "6722f58d-475a-404e-d098-c65056db6ff8"
      },
      "source": [
        "# As usual, a bit of setup\n",
        "from __future__ import print_function\n",
        "import time\n",
        "import numpy as np\n",
        "import matplotlib.pyplot as plt\n",
        "from cs231n.classifiers.fc_net import *\n",
        "from cs231n.data_utils import get_CIFAR10_data\n",
        "from cs231n.gradient_check import eval_numerical_gradient, eval_numerical_gradient_array\n",
        "from cs231n.solver import Solver\n",
        "\n",
        "%matplotlib inline\n",
        "plt.rcParams['figure.figsize'] = (10.0, 8.0) # set default size of plots\n",
        "plt.rcParams['image.interpolation'] = 'nearest'\n",
        "plt.rcParams['image.cmap'] = 'gray'\n",
        "\n",
        "# for auto-reloading external modules\n",
        "# see http://stackoverflow.com/questions/1907993/autoreload-of-modules-in-ipython\n",
        "%load_ext autoreload\n",
        "%autoreload 2\n",
        "\n",
        "def rel_error(x, y):\n",
        "  \"\"\" returns relative error \"\"\"\n",
        "  return np.max(np.abs(x - y) / (np.maximum(1e-8, np.abs(x) + np.abs(y))))"
      ],
      "execution_count": 6,
      "outputs": [
        {
          "output_type": "stream",
          "text": [
            "=========== You can safely ignore the message below if you are NOT working on ConvolutionalNetworks.ipynb ===========\n",
            "\tYou will need to compile a Cython extension for a portion of this assignment.\n",
            "\tThe instructions to do this will be given in a section of the notebook below.\n",
            "\tThere will be an option for Colab users and another for Jupyter (local) users.\n"
          ],
          "name": "stdout"
        }
      ]
    },
    {
      "cell_type": "code",
      "metadata": {
        "id": "8BiCTbauchMN",
        "colab_type": "code",
        "colab": {
          "base_uri": "https://localhost:8080/",
          "height": 119
        },
        "outputId": "b44f2200-2d2d-4ce1-e60a-720fb2868d4a"
      },
      "source": [
        "# Load the (preprocessed) CIFAR10 data.\n",
        "\n",
        "data = get_CIFAR10_data()\n",
        "for k, v in data.items():\n",
        "  print('%s: ' % k, v.shape)"
      ],
      "execution_count": 7,
      "outputs": [
        {
          "output_type": "stream",
          "text": [
            "X_train:  (49000, 3, 32, 32)\n",
            "y_train:  (49000,)\n",
            "X_val:  (1000, 3, 32, 32)\n",
            "y_val:  (1000,)\n",
            "X_test:  (1000, 3, 32, 32)\n",
            "y_test:  (1000,)\n"
          ],
          "name": "stdout"
        }
      ]
    },
    {
      "cell_type": "markdown",
      "metadata": {
        "id": "QuD0-7kK-S1U",
        "colab_type": "text"
      },
      "source": [
        "# Dropout  \n",
        "\n",
        "\n",
        "바닐라 드롭아웃이 가진 바람직하지 못한 속성은 우리가 테스트 시간에 확률 p에 의한 활성화를 스케일해주어야 한다는 것이다. 테스트 시간 수행능력이 매우 중요하기 때문에, 테스트 시간에 순전파를 건드리지 않으면서, (학습 시간에 스케일을 수행하는) inverted 드롭아웃을 사용하는 것이 선호된다.   \n",
        "  \n",
        "    \n",
        "  \n",
        "\n",
        "게다가, 이것은 예측 코드가 네가 드롭아웃을 적용하는 곳을 수정하기로 결정할 때, 가만히 둘 수 있는 매력적인 속성을 갖는다. 이 거꾸로된 드롭아웃은 다음과 같다:"
      ]
    },
    {
      "cell_type": "markdown",
      "metadata": {
        "id": "QvL4WAcWbrYv",
        "colab_type": "text"
      },
      "source": [
        "## 1. 드롭아웃의 순전파"
      ]
    },
    {
      "cell_type": "markdown",
      "metadata": {
        "id": "B7ZLogdehFer",
        "colab_type": "text"
      },
      "source": [
        "Performs the forward pass for (inverted) dropout.  \n",
        "\n",
        "**Inputs:**\n",
        "\n",
        "- **x**: Input data, of any shape\n",
        "\n",
        "- **dropout_param**: A dictionary with the following keys:\n",
        "\n",
        "- **p**: Dropout parameter. We keep each neuron output with probability p.\n",
        "\n",
        "- **mode**: 'test' or 'train'. If the mode is train, then perform dropout; if the mode is test, then just return the input.\n",
        "\n",
        "- **seed:** Seed for the random number generator. Passing seed makes this function deterministic, which is needed for gradient checking but not in real networks."
      ]
    },
    {
      "cell_type": "markdown",
      "metadata": {
        "id": "l88KCWX7hnJ4",
        "colab_type": "text"
      },
      "source": [
        "**Outputs:** \n",
        "\n",
        "- **out:** Array of the same shape as x.  \n",
        "  \n",
        "  \n",
        "- **cache:** tuple (dropout_param, mask). In training mode, mask is the dropout mask that was used to multiply the input; in test mode, mask is None.  \n",
        "  \n",
        "\n",
        "\n",
        "- **NOTE:** Please implement **inverted** dropout, not the vanilla version of dropout. See http://cs231n.github.io/neural-networks-2/#reg for more details.  \n",
        "  \n",
        "\n",
        "\n",
        "- **NOTE 2:** Keep in mind that p is the probability of keep a neuron output; this might be contrary to some sources, where it is referred to as the probability of dropping a neuron output."
      ]
    },
    {
      "cell_type": "code",
      "metadata": {
        "id": "w-T-sE8S4YQc",
        "colab_type": "code",
        "colab": {}
      },
      "source": [
        "from builtins import range\n",
        "import numpy as np\n",
        "\n",
        "\n",
        "def dropout_forward(x, dropout_param):\n",
        "\n",
        "    p, mode = dropout_param[\"p\"], dropout_param[\"mode\"]\n",
        "    if \"seed\" in dropout_param:\n",
        "        np.random.seed(dropout_param[\"seed\"])\n",
        "\n",
        "    mask = None\n",
        "    out = None\n",
        "\n",
        "    if mode == \"train\":\n",
        "        #######################################################################\n",
        "        # TODO: Implement training phase forward pass for inverted dropout.   #\n",
        "        # Store the dropout mask in the mask variable. (위 링크 참고)            #\n",
        "        #######################################################################\n",
        "        mask = (np.random.rand(*x.shape) < p) / p # 애스테리카는 튜플을 unpack 하기 위해 사용\n",
        "        out = x*mask\n",
        "        #######################################################################\n",
        "    elif mode == \"test\":\n",
        "        #######################################################################\n",
        "        # TODO: Implement the test phase forward pass for inverted dropout.   #\n",
        "        #######################################################################\n",
        "        out = x\n",
        "        #######################################################################\n",
        "\n",
        "    cache = (dropout_param, mask)\n",
        "    out = out.astype(x.dtype, copy=False)\n",
        "\n",
        "    return out, cache"
      ],
      "execution_count": 27,
      "outputs": []
    },
    {
      "cell_type": "code",
      "metadata": {
        "id": "YlVMTBEyeBgr",
        "colab_type": "code",
        "colab": {
          "base_uri": "https://localhost:8080/",
          "height": 374
        },
        "outputId": "b0dcfd95-ad5f-4794-f005-277a9a7da457"
      },
      "source": [
        "np.random.seed(231)\n",
        "x = np.random.randn(500, 500) + 10\n",
        "\n",
        "for p in [0.25, 0.4, 0.7]:\n",
        "  out, _ = dropout_forward(x, {'mode': 'train', 'p': p})\n",
        "  out_test, _ = dropout_forward(x, {'mode': 'test', 'p': p})\n",
        "\n",
        "  print('Running tests with p = ', p)\n",
        "  print('Mean of input: ', x.mean())\n",
        "  print('Mean of train-time output: ', out.mean())\n",
        "  print('Mean of test-time output: ', out_test.mean())\n",
        "  print('Fraction of train-time output set to zero: ', (out == 0).mean())\n",
        "  print('Fraction of test-time output set to zero: ', (out_test == 0).mean())\n",
        "  print()"
      ],
      "execution_count": 28,
      "outputs": [
        {
          "output_type": "stream",
          "text": [
            "Running tests with p =  0.25\n",
            "Mean of input:  10.000207878477502\n",
            "Mean of train-time output:  10.014059116977283\n",
            "Mean of test-time output:  10.000207878477502\n",
            "Fraction of train-time output set to zero:  0.749784\n",
            "Fraction of test-time output set to zero:  0.0\n",
            "\n",
            "Running tests with p =  0.4\n",
            "Mean of input:  10.000207878477502\n",
            "Mean of train-time output:  9.977917658761159\n",
            "Mean of test-time output:  10.000207878477502\n",
            "Fraction of train-time output set to zero:  0.600796\n",
            "Fraction of test-time output set to zero:  0.0\n",
            "\n",
            "Running tests with p =  0.7\n",
            "Mean of input:  10.000207878477502\n",
            "Mean of train-time output:  9.987811912159426\n",
            "Mean of test-time output:  10.000207878477502\n",
            "Fraction of train-time output set to zero:  0.30074\n",
            "Fraction of test-time output set to zero:  0.0\n",
            "\n"
          ],
          "name": "stdout"
        }
      ]
    },
    {
      "cell_type": "markdown",
      "metadata": {
        "id": "Gctb1OeYb0V7",
        "colab_type": "text"
      },
      "source": [
        "## 2. 드롭아웃의 역전파"
      ]
    },
    {
      "cell_type": "markdown",
      "metadata": {
        "id": "Q6n9CxPXl62o",
        "colab_type": "text"
      },
      "source": [
        "Perform the backward pass for (inverted) dropout.  \n",
        "  \n",
        "  \n",
        "\n",
        "**Inputs:**\n",
        "\n",
        "- **dout:** Upstream derivatives, of any shape  \n",
        "  \n",
        "\n",
        "- **cache:** (dropout_param, mask) from dropout_forward.\n"
      ]
    },
    {
      "cell_type": "code",
      "metadata": {
        "id": "YYXPsr1bl5BC",
        "colab_type": "code",
        "colab": {}
      },
      "source": [
        "def dropout_backward(dout, cache):\n",
        "   \n",
        "    dropout_param, mask = cache\n",
        "    mode = dropout_param[\"mode\"]\n",
        "\n",
        "    dx = None\n",
        "    if mode == \"train\":\n",
        "        #######################################################################\n",
        "        # TODO: Implement training phase backward pass for inverted dropout   #\n",
        "        #######################################################################\n",
        "        dx = dout*mask\n",
        "        #######################################################################\n",
        "    elif mode == \"test\":\n",
        "        dx = dout\n",
        "    return dx"
      ],
      "execution_count": 19,
      "outputs": []
    },
    {
      "cell_type": "code",
      "metadata": {
        "id": "ubA7vYh4fEau",
        "colab_type": "code",
        "colab": {
          "base_uri": "https://localhost:8080/",
          "height": 34
        },
        "outputId": "e71db6b7-1fd7-4576-c432-0b1491a96503"
      },
      "source": [
        "np.random.seed(231)\n",
        "x = np.random.randn(10, 10) + 10\n",
        "dout = np.random.randn(*x.shape)\n",
        "\n",
        "dropout_param = {'mode': 'train', 'p': 0.2, 'seed': 123}\n",
        "out, cache = dropout_forward(x, dropout_param)\n",
        "dx = dropout_backward(dout, cache)\n",
        "dx_num = eval_numerical_gradient_array(lambda xx: dropout_forward(xx, dropout_param)[0], x, dout)\n",
        "\n",
        "# Error should be around e-10 or less\n",
        "print('dx relative error: ', rel_error(dx, dx_num))"
      ],
      "execution_count": 20,
      "outputs": [
        {
          "output_type": "stream",
          "text": [
            "dx relative error:  5.44560814873387e-11\n"
          ],
          "name": "stdout"
        }
      ]
    },
    {
      "cell_type": "markdown",
      "metadata": {
        "id": "MekTwuoEjJeg",
        "colab_type": "text"
      },
      "source": [
        "## Inline Question 1:\n",
        "What happens if we do not divide the values being passed through inverse dropout by `p` in the dropout layer? Why does that happen?\n",
        "\n",
        "## Answer:\n",
        "\n",
        "바닐라 드롭아웃은 현실적으로 사용하기 힘들다. 데이터 양이 클 경우에 매우 많은 연산 수행을 요구하기 때문이다. 그래서 그 대안으로 inverted 드롭아웃을 사용하는 것이다. 여기서 학습 시간에 p를 나눠주는 이유는 바닐라 드롭아웃 때 테스트 타임에서 p를 곱해주던 것을 하지 않는 대신에, 학습 시간 때 p를 나눠주는 방법을 택했기 때문이다. 즉, 학습 시간 때 스케일링을 미리 처리해주는 것이다.  \n",
        "  \n",
        "   만약 이것이 미리 처리되지 않는다면, 위 forward pass 시 산출되는 결과 중 Mean of train-time output가 (p를 나눠준 경우보다) 상대적으로 낮을 것이다. p은 보통 1 보다 작은 수이니까 이것을 나누지 않은 산출값은 이것을 나눈 산출값 보다 클 수 밖에 없다."
      ]
    },
    {
      "cell_type": "markdown",
      "metadata": {
        "id": "96eT4EitiwD6",
        "colab_type": "text"
      },
      "source": [
        "## 3. 드롭아웃이 포함된 전연결 신경망"
      ]
    },
    {
      "cell_type": "code",
      "metadata": {
        "id": "tn1LETYai2AM",
        "colab_type": "code",
        "colab": {
          "base_uri": "https://localhost:8080/",
          "height": 476
        },
        "outputId": "dfc8f972-c80f-4803-fb0c-af0449c1f272"
      },
      "source": [
        "np.random.seed(231)\n",
        "N, D, H1, H2, C = 2, 15, 20, 30, 10\n",
        "X = np.random.randn(N, D)\n",
        "y = np.random.randint(C, size=(N,))\n",
        "\n",
        "for dropout in [1, 0.75, 0.5]:\n",
        "  print('Running check with dropout = ', dropout)\n",
        "  model = FullyConnectedNet([H1, H2], input_dim=D, num_classes=C,\n",
        "                            weight_scale=5e-2, dtype=np.float64,\n",
        "                            dropout=dropout, seed=123)\n",
        "\n",
        "  loss, grads = model.loss(X, y)\n",
        "  print('Initial loss: ', loss)\n",
        "  \n",
        "  # Relative errors should be around e-6 or less; Note that it's fine\n",
        "  # if for dropout=1 you have W2 error be on the order of e-5.\n",
        "  for name in sorted(grads):\n",
        "    f = lambda _: model.loss(X, y)[0]\n",
        "    grad_num = eval_numerical_gradient(f, model.params[name], verbose=False, h=1e-5)\n",
        "    print('%s relative error: %.2e' % (name, rel_error(grad_num, grads[name])))\n",
        "  print()"
      ],
      "execution_count": 29,
      "outputs": [
        {
          "output_type": "stream",
          "text": [
            "Running check with dropout =  1\n",
            "Initial loss:  2.3004790897684924\n",
            "W1 relative error: 1.48e-07\n",
            "W2 relative error: 2.21e-05\n",
            "W3 relative error: 3.53e-07\n",
            "b1 relative error: 5.38e-09\n",
            "b2 relative error: 2.09e-09\n",
            "b3 relative error: 5.80e-11\n",
            "\n",
            "Running check with dropout =  0.75\n",
            "Initial loss:  2.302371489704412\n",
            "W1 relative error: 1.90e-07\n",
            "W2 relative error: 4.76e-06\n",
            "W3 relative error: 2.60e-08\n",
            "b1 relative error: 4.73e-09\n",
            "b2 relative error: 1.82e-09\n",
            "b3 relative error: 1.70e-10\n",
            "\n",
            "Running check with dropout =  0.5\n",
            "Initial loss:  2.3042759220785896\n",
            "W1 relative error: 3.11e-07\n",
            "W2 relative error: 1.84e-08\n",
            "W3 relative error: 5.35e-08\n",
            "b1 relative error: 5.37e-09\n",
            "b2 relative error: 2.99e-09\n",
            "b3 relative error: 1.13e-10\n",
            "\n"
          ],
          "name": "stdout"
        }
      ]
    },
    {
      "cell_type": "markdown",
      "metadata": {
        "id": "VVXQJmQOmKNQ",
        "colab_type": "text"
      },
      "source": [
        "## 4. 정규화 실험"
      ]
    },
    {
      "cell_type": "markdown",
      "metadata": {
        "id": "Zom5mtAwm4zf",
        "colab_type": "text"
      },
      "source": [
        "우리는 500 개의 예에 대한 한 쌍의 복층 신경망을 훈련시킬 것이다. 하나는 드롭아웃을 사용하지 않을 것이고, 다른 하나는 p = 0.75로 사용할 것이다. 우리는 시간이 지남에 따라 변화하는 두 개의 신경망의 트레이닝, 검증 정확도를 시각화할 것이다."
      ]
    },
    {
      "cell_type": "code",
      "metadata": {
        "id": "c1QjPnn_ncZK",
        "colab_type": "code",
        "colab": {
          "base_uri": "https://localhost:8080/",
          "height": 1000
        },
        "outputId": "6460d19f-4ce2-4575-c3bd-8685fbf35c95"
      },
      "source": [
        "np.random.seed(231)\n",
        "num_train = 500\n",
        "small_data = {\n",
        "  'X_train': data['X_train'][:num_train],\n",
        "  'y_train': data['y_train'][:num_train],\n",
        "  'X_val': data['X_val'],\n",
        "  'y_val': data['y_val'],\n",
        "}\n",
        "\n",
        "solvers = {}\n",
        "dropout_choices = [0, 0.75]\n",
        "for dropout in dropout_choices:\n",
        "  model = FullyConnectedNet([500], dropout=dropout)\n",
        "  print(dropout)\n",
        "\n",
        "  solver = Solver(model, small_data,\n",
        "                  num_epochs=25, batch_size=100,\n",
        "                  update_rule='adam',\n",
        "                  optim_config={\n",
        "                    'learning_rate': 5e-4,\n",
        "                  },\n",
        "                  verbose=True, print_every=100)\n",
        "  solver.train()\n",
        "  solvers[dropout] = solver"
      ],
      "execution_count": 32,
      "outputs": [
        {
          "output_type": "stream",
          "text": [
            "0\n",
            "(Iteration 1 / 125) loss: 7.856643\n",
            "(Epoch 0 / 25) train acc: 0.274000; val_acc: 0.192000\n",
            "(Epoch 1 / 25) train acc: 0.410000; val_acc: 0.263000\n",
            "(Epoch 2 / 25) train acc: 0.518000; val_acc: 0.269000\n",
            "(Epoch 3 / 25) train acc: 0.550000; val_acc: 0.248000\n",
            "(Epoch 4 / 25) train acc: 0.684000; val_acc: 0.297000\n",
            "(Epoch 5 / 25) train acc: 0.758000; val_acc: 0.292000\n",
            "(Epoch 6 / 25) train acc: 0.782000; val_acc: 0.266000\n",
            "(Epoch 7 / 25) train acc: 0.860000; val_acc: 0.239000\n",
            "(Epoch 8 / 25) train acc: 0.862000; val_acc: 0.284000\n",
            "(Epoch 9 / 25) train acc: 0.896000; val_acc: 0.279000\n",
            "(Epoch 10 / 25) train acc: 0.904000; val_acc: 0.266000\n",
            "(Epoch 11 / 25) train acc: 0.942000; val_acc: 0.303000\n",
            "(Epoch 12 / 25) train acc: 0.952000; val_acc: 0.299000\n",
            "(Epoch 13 / 25) train acc: 0.946000; val_acc: 0.289000\n",
            "(Epoch 14 / 25) train acc: 0.952000; val_acc: 0.269000\n",
            "(Epoch 15 / 25) train acc: 0.968000; val_acc: 0.301000\n",
            "(Epoch 16 / 25) train acc: 0.986000; val_acc: 0.315000\n",
            "(Epoch 17 / 25) train acc: 0.988000; val_acc: 0.298000\n",
            "(Epoch 18 / 25) train acc: 0.984000; val_acc: 0.295000\n",
            "(Epoch 19 / 25) train acc: 0.986000; val_acc: 0.303000\n",
            "(Epoch 20 / 25) train acc: 0.988000; val_acc: 0.319000\n",
            "(Iteration 101 / 125) loss: 0.070514\n",
            "(Epoch 21 / 25) train acc: 0.988000; val_acc: 0.305000\n",
            "(Epoch 22 / 25) train acc: 0.940000; val_acc: 0.281000\n",
            "(Epoch 23 / 25) train acc: 0.952000; val_acc: 0.305000\n",
            "(Epoch 24 / 25) train acc: 0.950000; val_acc: 0.289000\n",
            "(Epoch 25 / 25) train acc: 0.952000; val_acc: 0.291000\n",
            "0.75\n",
            "(Iteration 1 / 125) loss: 11.299055\n",
            "(Epoch 0 / 25) train acc: 0.246000; val_acc: 0.181000\n",
            "(Epoch 1 / 25) train acc: 0.400000; val_acc: 0.231000\n",
            "(Epoch 2 / 25) train acc: 0.544000; val_acc: 0.270000\n",
            "(Epoch 3 / 25) train acc: 0.622000; val_acc: 0.263000\n",
            "(Epoch 4 / 25) train acc: 0.688000; val_acc: 0.300000\n",
            "(Epoch 5 / 25) train acc: 0.774000; val_acc: 0.289000\n",
            "(Epoch 6 / 25) train acc: 0.778000; val_acc: 0.284000\n",
            "(Epoch 7 / 25) train acc: 0.836000; val_acc: 0.281000\n",
            "(Epoch 8 / 25) train acc: 0.842000; val_acc: 0.284000\n",
            "(Epoch 9 / 25) train acc: 0.886000; val_acc: 0.281000\n",
            "(Epoch 10 / 25) train acc: 0.852000; val_acc: 0.309000\n",
            "(Epoch 11 / 25) train acc: 0.908000; val_acc: 0.285000\n",
            "(Epoch 12 / 25) train acc: 0.912000; val_acc: 0.278000\n",
            "(Epoch 13 / 25) train acc: 0.928000; val_acc: 0.294000\n",
            "(Epoch 14 / 25) train acc: 0.926000; val_acc: 0.315000\n",
            "(Epoch 15 / 25) train acc: 0.912000; val_acc: 0.313000\n",
            "(Epoch 16 / 25) train acc: 0.962000; val_acc: 0.287000\n",
            "(Epoch 17 / 25) train acc: 0.926000; val_acc: 0.301000\n",
            "(Epoch 18 / 25) train acc: 0.920000; val_acc: 0.324000\n",
            "(Epoch 19 / 25) train acc: 0.968000; val_acc: 0.309000\n",
            "(Epoch 20 / 25) train acc: 0.964000; val_acc: 0.296000\n",
            "(Iteration 101 / 125) loss: 0.500252\n",
            "(Epoch 21 / 25) train acc: 0.970000; val_acc: 0.314000\n",
            "(Epoch 22 / 25) train acc: 0.974000; val_acc: 0.304000\n",
            "(Epoch 23 / 25) train acc: 0.982000; val_acc: 0.307000\n",
            "(Epoch 24 / 25) train acc: 0.994000; val_acc: 0.292000\n",
            "(Epoch 25 / 25) train acc: 0.994000; val_acc: 0.292000\n"
          ],
          "name": "stdout"
        }
      ]
    },
    {
      "cell_type": "markdown",
      "metadata": {
        "id": "lrMfjywPobvB",
        "colab_type": "text"
      },
      "source": [
        "Plot train and validation accuracies of the two models\n"
      ]
    },
    {
      "cell_type": "code",
      "metadata": {
        "id": "za_qt6p0oZ67",
        "colab_type": "code",
        "colab": {
          "base_uri": "https://localhost:8080/",
          "height": 606
        },
        "outputId": "29613380-a8d9-4742-a553-36f3bd050f1f"
      },
      "source": [
        "train_accs = []\n",
        "val_accs = []\n",
        "for dropout in dropout_choices:\n",
        "  solver = solvers[dropout]\n",
        "  train_accs.append(solver.train_acc_history[-1])\n",
        "  val_accs.append(solver.val_acc_history[-1])\n",
        "\n",
        "plt.subplot(3, 1, 1)\n",
        "for dropout in dropout_choices:\n",
        "  plt.plot(solvers[dropout].train_acc_history, 'o', label='%.2f dropout' % dropout)\n",
        "plt.title('Train accuracy')\n",
        "plt.xlabel('Epoch')\n",
        "plt.ylabel('Accuracy')\n",
        "plt.legend(ncol=2, loc='lower right')\n",
        "  \n",
        "plt.subplot(3, 1, 2)\n",
        "for dropout in dropout_choices:\n",
        "  plt.plot(solvers[dropout].val_acc_history, 'o', label='%.2f dropout' % dropout)\n",
        "plt.title('Val accuracy')\n",
        "plt.xlabel('Epoch')\n",
        "plt.ylabel('Accuracy')\n",
        "plt.legend(ncol=2, loc='lower right')\n",
        "\n",
        "plt.gcf().set_size_inches(15, 15)\n",
        "plt.show()"
      ],
      "execution_count": 33,
      "outputs": [
        {
          "output_type": "display_data",
          "data": {
            "image/png": "[encoded data removed]",
            "text/plain": [
              "<Figure size 1080x1080 with 2 Axes>"
            ]
          },
          "metadata": {
            "tags": [],
            "needs_background": "light"
          }
        }
      ]
    }
  ]
}