{
  "nbformat": 4,
  "nbformat_minor": 0,
  "metadata": {
    "kernelspec": {
      "display_name": "Python 3",
      "language": "python",
      "name": "python3"
    },
    "language_info": {
      "codemirror_mode": {
        "name": "ipython",
        "version": 3
      },
      "file_extension": ".py",
      "mimetype": "text/x-python",
      "name": "python",
      "nbconvert_exporter": "python",
      "pygments_lexer": "ipython3",
      "version": "3.7.6"
    },
    "colab": {
      "name": "two_layer_net.ipynb",
      "provenance": [],
      "toc_visible": true,
      "include_colab_link": true
    }
  },
  "cells": [
    {
      "cell_type": "markdown",
      "metadata": {
        "id": "view-in-github",
        "colab_type": "text"
      },
      "source": [
        "<a href=\"https://colab.research.google.com/github/musicjae/cs231n/blob/master/assignment1/two_layer_net.ipynb\" target=\"_parent\"><img src=\"https://colab.research.google.com/assets/colab-badge.svg\" alt=\"Open In Colab\"/></a>"
      ]
    },
    {
      "cell_type": "code",
      "metadata": {
        "id": "SmAQ_KcwRYOE",
        "colab_type": "code",
        "colab": {
          "base_uri": "https://localhost:8080/",
          "height": 496
        },
        "outputId": "299b4e39-f7f9-42b4-c25b-0641dfa1eaf1"
      },
      "source": [
        "# this mounts your Google Drive to the Colab VM.\n",
        "from google.colab import drive\n",
        "drive.mount('/content/drive', force_remount=True)\n",
        "\n",
        "# enter the foldername in your Drive where you have saved the unzipped\n",
        "# assignment folder, e.g. 'cs231n/assignments/assignment3/'\n",
        "FOLDERNAME = 'Colab Notebooks/cs231n/assignments/assignment1'\n",
        "assert FOLDERNAME is not None, \"[!] Enter the foldername.\"\n",
        "\n",
        "# now that we've mounted your Drive, this ensures that\n",
        "# the Python interpreter of the Colab VM can load\n",
        "# python files from within it.\n",
        "import sys\n",
        "sys.path.append('/content/drive/My Drive/{}'.format(FOLDERNAME))\n",
        "\n",
        "# this downloads the CIFAR-10 dataset to your Drive\n",
        "# if it doesn't already exist.\n",
        "%cd drive/My\\ Drive/$FOLDERNAME/cs231n/datasets/\n",
        "!bash get_datasets.sh\n",
        "%cd /content"
      ],
      "execution_count": 1,
      "outputs": [
        {
          "output_type": "stream",
          "text": [
            "Go to this URL in a browser: https://accounts.google.com/o/oauth2/auth?client_id=947318989803-6bn6qk8qdgf4n4g3pfee6491hc0brc4i.apps.googleusercontent.com&redirect_uri=urn%3aietf%3awg%3aoauth%3a2.0%3aoob&response_type=code&scope=email%20https%3a%2f%2fwww.googleapis.com%2fauth%2fdocs.test%20https%3a%2f%2fwww.googleapis.com%2fauth%2fdrive%20https%3a%2f%2fwww.googleapis.com%2fauth%2fdrive.photos.readonly%20https%3a%2f%2fwww.googleapis.com%2fauth%2fpeopleapi.readonly\n",
            "\n",
            "Enter your authorization code:\n",
            "··········\n",
            "Mounted at /content/drive\n",
            "/content/drive/My Drive/Colab Notebooks/cs231n/assignments/assignment1/cs231n/datasets\n",
            "--2020-07-21 07:28:54--  http://www.cs.toronto.edu/~kriz/cifar-10-python.tar.gz\n",
            "Resolving www.cs.toronto.edu (www.cs.toronto.edu)... 128.100.3.30\n",
            "Connecting to www.cs.toronto.edu (www.cs.toronto.edu)|128.100.3.30|:80... connected.\n",
            "HTTP request sent, awaiting response... 200 OK\n",
            "Length: 170498071 (163M) [application/x-gzip]\n",
            "Saving to: ‘cifar-10-python.tar.gz’\n",
            "\n",
            "cifar-10-python.tar 100%[===================>] 162.60M  47.5MB/s    in 3.8s    \n",
            "\n",
            "2020-07-21 07:28:58 (42.8 MB/s) - ‘cifar-10-python.tar.gz’ saved [170498071/170498071]\n",
            "\n",
            "cifar-10-batches-py/\n",
            "cifar-10-batches-py/data_batch_4\n",
            "cifar-10-batches-py/readme.html\n",
            "cifar-10-batches-py/test_batch\n",
            "cifar-10-batches-py/data_batch_3\n",
            "cifar-10-batches-py/batches.meta\n",
            "cifar-10-batches-py/data_batch_2\n",
            "cifar-10-batches-py/data_batch_5\n",
            "cifar-10-batches-py/data_batch_1\n",
            "/content\n"
          ],
          "name": "stdout"
        }
      ]
    },
    {
      "cell_type": "markdown",
      "metadata": {
        "tags": [
          "pdf-title"
        ],
        "id": "LTJim0H0RRKj",
        "colab_type": "text"
      },
      "source": [
        "# Implementing a Neural Network\n",
        "In this exercise we will develop a neural network with fully-connected layers to perform classification, and test it out on the CIFAR-10 dataset."
      ]
    },
    {
      "cell_type": "code",
      "metadata": {
        "tags": [
          "pdf-ignore"
        ],
        "id": "bHi0LFQrRRKk",
        "colab_type": "code",
        "colab": {}
      },
      "source": [
        "# A bit of setup\n",
        "\n",
        "import numpy as np\n",
        "import matplotlib.pyplot as plt\n",
        "\n",
        "from cs231n.classifiers.neural_net import TwoLayerNet\n",
        "\n",
        "%matplotlib inline\n",
        "plt.rcParams['figure.figsize'] = (10.0, 8.0) # set default size of plots\n",
        "plt.rcParams['image.interpolation'] = 'nearest'\n",
        "plt.rcParams['image.cmap'] = 'gray'\n",
        "\n",
        "# for auto-reloading external modules\n",
        "# see http://stackoverflow.com/questions/1907993/autoreload-of-modules-in-ipython\n",
        "%load_ext autoreload\n",
        "%autoreload 2\n",
        "\n",
        "def rel_error(x, y):\n",
        "    \"\"\" returns relative error \"\"\"\n",
        "    return np.max(np.abs(x - y) / (np.maximum(1e-8, np.abs(x) + np.abs(y))))"
      ],
      "execution_count": 2,
      "outputs": []
    },
    {
      "cell_type": "markdown",
      "metadata": {
        "tags": [
          "pdf-ignore"
        ],
        "id": "TBnymGxCRRKn",
        "colab_type": "text"
      },
      "source": [
        "\n",
        "우리는 신경망의 인스턴스를 보여주기 위해 `cs231n/classifiers/neural_net.py`에서 `TwoLayerNet`를 사용할 것이다. 이 신경망의 매개변수는 그 인스턴스의 변수 `self.params`에 저장된다. 여기서 중요한 것은 string 매개변수 이름과 값이 넘파이 배열이란 것이다. 아래에서, 우리는 toy 자료와 수행을 발전시키기 위해 사용할 toy 모델을 초기화한다."
      ]
    },
    {
      "cell_type": "code",
      "metadata": {
        "tags": [
          "pdf-ignore"
        ],
        "id": "0YCoPDcBRRKn",
        "colab_type": "code",
        "colab": {}
      },
      "source": [
        "# Create a small net and some toy data to check your implementations.\n",
        "# Note that we set the random seed for repeatable experiments.\n",
        "\n",
        "input_size = 4\n",
        "hidden_size = 10\n",
        "num_classes = 3\n",
        "num_inputs = 5\n",
        "\n",
        "def init_toy_model():\n",
        "    np.random.seed(0)\n",
        "    return TwoLayerNet(input_size, hidden_size, num_classes, std=1e-1)\n",
        "\n",
        "def init_toy_data():\n",
        "    np.random.seed(1)\n",
        "    X = 10 * np.random.randn(num_inputs, input_size)\n",
        "    y = np.array([0, 1, 2, 2, 1])\n",
        "    return X, y\n",
        "\n",
        "net = init_toy_model()\n",
        "X, y = init_toy_data()"
      ],
      "execution_count": 10,
      "outputs": []
    },
    {
      "cell_type": "markdown",
      "metadata": {
        "id": "GvMTxRRRRRKq",
        "colab_type": "text"
      },
      "source": [
        "## 1. Foward Pass<br>\n",
        "<h5> 두 개의 층이 완전히 연결된 신경망. 그 신경망의 입력 차원은 N, 은닉층 차원은 H이고, 이것은 C 개의 클래스로 분류를 한다. 우리는 가중치 행렬, 소프트맥스 손실 함수, L2 정규화를 가지고 이 신경망을 훈련시킨다. 이 신경망은 먼저 완전히 연결된 층에 ReLU 비선형성을 사용한다. [*fully connected layer = 완전히 연결된 층.] \n",
        "\n",
        "<br>\n",
        "\n",
        "즉, 이 신경망은 다음의 구조를 갖는다.\n",
        "    \n",
        "<br>\n",
        "\n",
        "입력 -- 완전히 연결된 층 -- ReLU -- 완전히 연결된 층 -- 소프트맥스<Br>  \n",
        "    두 번째 완전히 연결된 층의 아웃풋은 \"각 클래스의 스코어\"이다."
      ]
    },
    {
      "cell_type": "code",
      "metadata": {
        "id": "a9OK6cQ2RRKq",
        "colab_type": "code",
        "colab": {
          "base_uri": "https://localhost:8080/",
          "height": 306
        },
        "outputId": "744c4743-67f2-4803-dfa8-309ba35e7742"
      },
      "source": [
        "scores = net.loss(X)\n",
        "print('Your scores:')\n",
        "print(scores)\n",
        "print()\n",
        "print('correct scores:')\n",
        "correct_scores = np.asarray([\n",
        "  [-0.81233741, -1.27654624, -0.70335995],\n",
        "  [-0.17129677, -1.18803311, -0.47310444],\n",
        "  [-0.51590475, -1.01354314, -0.8504215 ],\n",
        "  [-0.15419291, -0.48629638, -0.52901952],\n",
        "  [-0.00618733, -0.12435261, -0.15226949]])\n",
        "print(correct_scores)\n",
        "print()\n",
        "\n",
        "# The difference should be very small. We get < 1e-7\n",
        "print('Difference between your scores and correct scores:')\n",
        "print(np.sum(np.abs(scores - correct_scores)))\n",
        "\n",
        "if 1e-7 > np.sum(np.abs(scores - correct_scores)):\n",
        "    print('옳게 프로그래밍 함.')"
      ],
      "execution_count": 11,
      "outputs": [
        {
          "output_type": "stream",
          "text": [
            "Your scores:\n",
            "[[-0.81233741 -1.27654624 -0.70335995]\n",
            " [-0.17129677 -1.18803311 -0.47310444]\n",
            " [-0.51590475 -1.01354314 -0.8504215 ]\n",
            " [-0.15419291 -0.48629638 -0.52901952]\n",
            " [-0.00618733 -0.12435261 -0.15226949]]\n",
            "\n",
            "correct scores:\n",
            "[[-0.81233741 -1.27654624 -0.70335995]\n",
            " [-0.17129677 -1.18803311 -0.47310444]\n",
            " [-0.51590475 -1.01354314 -0.8504215 ]\n",
            " [-0.15419291 -0.48629638 -0.52901952]\n",
            " [-0.00618733 -0.12435261 -0.15226949]]\n",
            "\n",
            "Difference between your scores and correct scores:\n",
            "3.6802720745909845e-08\n",
            "옳게 프로그래밍 함.\n"
          ],
          "name": "stdout"
        }
      ]
    },
    {
      "cell_type": "code",
      "metadata": {
        "id": "IYeUSjYNSnr6",
        "colab_type": "code",
        "colab": {
          "base_uri": "https://localhost:8080/",
          "height": 708
        },
        "outputId": "4f4a1317-aa13-4f32-c555-8200c0254f90"
      },
      "source": [
        "#My studying, not contained.\n",
        "\n",
        "from __future__ import print_function\n",
        "from builtins import range\n",
        "from builtins import object\n",
        "import numpy as np\n",
        "import matplotlib.pyplot as plt\n",
        "from past.builtins import xrange\n",
        "from cs231n.gradient_check import eval_numerical_gradient\n",
        "\n",
        "class TwoLayerNet(object):\n",
        "   \n",
        "    def __init__(self, input_size, hidden_size, output_size, std=1e-4): # \n",
        "        \"\"\"\n",
        "       \n",
        "        모델을 초기화하라. 가중치는 작은 랜덤 값으로 초기화되고, 편향은 0으로 초기화된다. 가중치와 편향은 self.params 변항에 저장된다. \n",
        "        이는 다음의 key를 가진 dictionary이다.\n",
        "\n",
        "        W1: First layer weights; has shape (D, H)\n",
        "        b1: First layer biases; has shape (H,)\n",
        "        \n",
        "        W2: Second layer weights; has shape (H, C)\n",
        "        b2: Second layer biases; has shape (C,)\n",
        "\n",
        "        Inputs:\n",
        "        \n",
        "        - input_size: The dimension D of the input data.\n",
        "        - hidden_size: The number of neurons H in the hidden layer.\n",
        "        - output_size: The number of classes C.\n",
        "        \"\"\"\n",
        "        \n",
        "        #인풋 크기: (인풋 자료의 차원 수) D, 은닉 크기: (뉴런 수) H, 아웃풋 크기: (클래스 개수) C\n",
        "        \n",
        "        self.params = {} # dic 형태인 변항에 가중치, 편향 저장.\n",
        "        self.params['W1'] = std * np.random.randn(input_size, hidden_size) # 가중치 랜덤값으로 초기화\n",
        "        self.params['b1'] = np.zeros(hidden_size) # 편향 항은 0으로 초기화\n",
        "        \n",
        "        self.params['W2'] = std * np.random.randn(hidden_size, output_size)\n",
        "        self.params['b2'] = np.zeros(output_size)\n",
        " \n",
        "    def loss(self, X, y=None, reg=0.0):\n",
        "        \n",
        "        \"\"\"\n",
        "        손실, 그래디언트 계산하라 for a two layer fully connected neural network.\n",
        "\n",
        "        Inputs:\n",
        "        \n",
        "        - X: Input data of shape (N, D). Each X[i] is a training sample.\n",
        "        - y: Vector of training labels. y[i] is the label for X[i], and each y[i] is\n",
        "          an integer in the range 0 <= y[i] < C. This parameter is optional; if it\n",
        "          is not passed then we only return scores, and if it is passed then we\n",
        "          instead return the loss and gradients.\n",
        "        - reg: Regularization strength.\n",
        "\n",
        "        Returns:\n",
        "        \n",
        "        If y is None, return a matrix scores of shape (N, C) where scores[i, c] is\n",
        "        the score for class c on input X[i].\n",
        "\n",
        "        If y is not None, instead return a tuple of:\n",
        "        \n",
        "        - loss: 트레이닝 샘플의 batch의 손실 (data 손실 + 정규화 손실)\n",
        "        - grads: <매개변수 이름>이 <손실 함수에 대한 매개변수의 그래디언트>를 사상map하는 dictionary. \n",
        "                 이 dic은 self.params와 동일한 keys를 가진다.\n",
        "        \"\"\"\n",
        "        \n",
        "        # Unpack variables from the params dictionary\n",
        "        W1, b1 = self.params['W1'], self.params['b1']\n",
        "        W2, b2 = self.params['W2'], self.params['b2']\n",
        "        N, D = X.shape\n",
        "\n",
        "        # Compute the forward pass\n",
        "        s = None # The s is a score\n",
        "\n",
        "        # TODO: the forward pass를 수행하라, 인풋의 클래스 스코어를 계산하라\n",
        "        # 스코어 변항에 그 결과를 저장하라. 그것은 shape (N, C)인 배열이어야 한다.  \n",
        "        \n",
        "        # *****START OF YOUR CODE (DO NOT DELETE/MODIFY THIS LINE)*****\n",
        "        \n",
        "        f = np.dot(X, W1) + b1\n",
        "        h= np.maximum(0, f) # ReLU 함수화\n",
        "        \n",
        "        s = np.dot(h, W2) + b2 # 위 그림 참고\n",
        "        \n",
        "        \n",
        "        # *****END OF YOUR CODE (DO NOT DELETE/MODIFY THIS LINE)*****\n",
        "\n",
        "        # If the targets are not given then jump out, we're done\n",
        "        if y is None:\n",
        "            return s # (N, C)\n",
        "\n",
        "        # Compute the loss\n",
        "        \n",
        "        loss = None # 초기화\n",
        "        \n",
        "        #############################################################################\n",
        "        # TODO: forward pass를 완성하고, the loss를 계산하라. 이것은 W1, W2에 대한 data 손실과 \n",
        "        # 정규화를 포함해야 한다. 그리고 그 결과를 loss의 변항에 저장하라. 이는 스칼라여야 한다.       \n",
        "        # 소프트맥스 손실 분류기를 사용하라           \n",
        "        #                   \n",
        "        #############################################################################\n",
        "        # *****START OF YOUR CODE (DO NOT DELETE/MODIFY THIS LINE)*****\n",
        "\n",
        "        s -= np.max(s)\n",
        "        exp_s = np.exp(s)\n",
        "        sum_s = np.sum(exp_s, axis= -1, keepdims= True) #softmax 때와 같이, 벡터화 해주기\n",
        "        out = exp_s/sum_s\n",
        "        \n",
        "        loss = -np.sum(np.log(out[np.arange(N), y]))\n",
        "        \n",
        "        loss /= N\n",
        "        loss += 0.5 *reg * (np.sum(W1**2) + np.sum(W2**2)) #가중치가 2 개니까 각각 정규화한 뒤 더한다\n",
        "        \n",
        "        # *****END OF YOUR CODE (DO NOT DELETE/MODIFY THIS LINE)*****\n",
        "        \n",
        "        # gradiet 구하기\n",
        "        \n",
        "        grads = {}\n",
        "        \n",
        "        \"\"\"\n",
        "        To do: 가중치와 bias를 미분하는 Backward pass 를 계산하라. \n",
        "               그 결과를 grad 딕셔너리 안에 저장하라. 가령, grad['W1']은 W1의\n",
        "               그래디언트를 저장해야 하고, 이 둘의 크기는 같아야 한다.\n",
        "        \"\"\"\n",
        "        s = 0 # The s is a score\n",
        "        f = np.dot(X, W1) + b1\n",
        "        h = np.maximum(0, f) # maximum(): Element-wise maximum of array elements.\n",
        "        \n",
        "        s = np.dot(h, W2) + b2 # 위 그림 참고\n",
        "        \n",
        "        s -= np.max(s)\n",
        "        exp_s = np.exp(s)\n",
        "        sum_s = np.sum(exp_s, axis= -1, keepdims= True) #softmax 때와 같이, 벡터화 해주기\n",
        "        out = exp_s/sum_s# output을 구하기 위해, 위와 동일한 작업 수행\n",
        "        \n",
        "        #Backpropagation\n",
        "        \n",
        "        ds = out\n",
        "        ds[np.arange(N),y] -= 1 # 소프트맥스에 대한 backpropagation\n",
        "        \n",
        "        dh = np.dot(ds, W2.T) # s = W2*h + b2 이니까, dh에 대한 backpropagation\n",
        "        \n",
        "        dh[h <= 0] = 0 # ReLU에 대한 backpropagation\n",
        "        df = dh\n",
        "        \n",
        "        # 매개변수의 그래디언트 계산하기\n",
        "        \n",
        "        grads['W2'] = np.dot(h.T, ds) \n",
        "        grads['W1'] = np.dot(X.T, df) \n",
        "        grads['b2'] = np.sum(ds, axis=0)\n",
        "        grads['b1'] = np.sum(df, axis=0)\n",
        "        \n",
        "\n",
        "          # 매개변수의 그래디언트 계산하기\n",
        "        \n",
        "        dW2 = np.dot(h.T, ds) # [HxN] * [NxC] = [HxC]\n",
        "        dW1 = np.dot(X.T, df) # [DxN] * [NxH] = [DxH]\n",
        "        db2 = np.sum(ds, axis=0)\n",
        "        db1 = np.sum(df, axis=0) # db1 = np.ones((1, num_train)).dot(hidden)\n",
        "        \n",
        "        dW2 /= N\n",
        "        dW1 /= N\n",
        "        db2 /= N\n",
        "        db1 /= N \n",
        "        \n",
        "\n",
        "        # 정규화\n",
        "      \n",
        "        dW1 += reg*W1\n",
        "        dW2 += reg*W2\n",
        "        \n",
        "        grads = {'W1':dW1, 'W2' : dW2, 'b1':db1, 'b2': db2}\n",
        "        \n",
        "        return loss, grads\n",
        "\"\"\"\"\n",
        "우리는 신경망의 인스턴스를 보여주기 위해 바로 위에서 작성한 `TwoLayerNet`를 사용할 것이다. \n",
        "이 신경망의 매개변수는 그 인스턴스의 변수 `self.params`에 저장된다. 여기서 중요한 것은 string 매개변수 names와 values가 둘다 배열이란 것이다.\n",
        "아래에서, 우리는 toy의 자료와 implementaion을 발전시키기 위해 사용할 <toy 모델>을 초기화한다.\n",
        "\n",
        "\"\"\"\n",
        "\n",
        "\n",
        "\n",
        "input_size = 4\n",
        "hidden_size = 10\n",
        "num_classes = 3\n",
        "num_inputs = 5\n",
        "\n",
        "def init_toy_model():\n",
        "    np.random.seed(0)\n",
        "    return TwoLayerNet(input_size, hidden_size, num_classes, std=1e-1)\n",
        "\n",
        "def init_toy_data():\n",
        "    np.random.seed(1)\n",
        "    X = 10 * np.random.randn(num_inputs, input_size) # X(5,4)\n",
        "    y = np.array([0, 1, 2, 2, 1]) # y(5,)\n",
        "    return X, y \n",
        "\n",
        "net = init_toy_model()\n",
        "X, y = init_toy_data()\n",
        "\n",
        "\"\"\"\n",
        "Forward pass: 스코어 계산하기\n",
        "`cs231n/classifiers/neural_net.py` 파일의 TwoLayerNet.loss 메서드를 보라. \n",
        "이 함수는 SVM, Softmax 예제에서 작성했던 손실 함수와 매우 비슷하다: 이 함수는 data와 가중치를 취하고, 클래스 스코어, 손실, 그래디언트를 계산한다.\n",
        "모든 입력의 스코어를 계산하기 위해 가중치와 편향을 사용하는 forward pass의 첫 번째 부분을 실행해보자.\n",
        "\"\"\"\n",
        "\n",
        "scores = net.loss(X)\n",
        "print(' 1. Your scores:')\n",
        "print(scores)\n",
        "print()\n",
        "print(' 2. correct scores:')\n",
        "correct_scores = np.asarray([\n",
        "  [-0.81233741, -1.27654624, -0.70335995],\n",
        "  [-0.17129677, -1.18803311, -0.47310444],\n",
        "  [-0.51590475, -1.01354314, -0.8504215 ],\n",
        "  [-0.15419291, -0.48629638, -0.52901952],\n",
        "  [-0.00618733, -0.12435261, -0.15226949]])\n",
        "print(correct_scores)\n",
        "print()\n",
        "\n",
        "# The difference should be very small. We get < 1e-7\n",
        "print(' 3. 나의 스코어와 정답 스코어 간 차이: ')\n",
        "print('%e, %f' % (np.sum(np.abs(scores - correct_scores)),np.sum(np.abs(scores - correct_scores))))\n",
        "\n",
        "# In the same function, implement the second part that computes the data and regularization loss.\n",
        "print('\\n')\n",
        "\n",
        "loss = net.loss(X, y, reg=0.05)\n",
        "correct_loss = 1.30378789133\n",
        "\n",
        "# should be very small, we get < 1e-12\n",
        "print(' 4. 나의 손실과 정답 손실 간 차이: ')\n",
        "\n",
        "print('%f' % np.sum(np.abs(loss[0] - correct_loss)))\n",
        "\n",
        "#그래디언트 체킹\n",
        "\n",
        "loss, grads = net.loss(X, y, reg=0.05)\n",
        "\n",
        "#loss, grads = net.loss(X, y, reg=0.05)\n",
        "# these should all be less than 1e-8 or so\n",
        "for param_name in grads:\n",
        "    f = lambda W: net.loss(X, y, reg=0.05)\n",
        "    param_grad_num = eval_numerical_gradient(f, net.params[param_name], verbose=False)\n",
        "    print('4. %s max relative error: %e' % ( rel_error(param_grad_num, grads[param_name])))\n",
        "    \n",
        "   "
      ],
      "execution_count": 12,
      "outputs": [
        {
          "output_type": "stream",
          "text": [
            " 1. Your scores:\n",
            "[[-0.81233741 -1.27654624 -0.70335995]\n",
            " [-0.17129677 -1.18803311 -0.47310444]\n",
            " [-0.51590475 -1.01354314 -0.8504215 ]\n",
            " [-0.15419291 -0.48629638 -0.52901952]\n",
            " [-0.00618733 -0.12435261 -0.15226949]]\n",
            "\n",
            " 2. correct scores:\n",
            "[[-0.81233741 -1.27654624 -0.70335995]\n",
            " [-0.17129677 -1.18803311 -0.47310444]\n",
            " [-0.51590475 -1.01354314 -0.8504215 ]\n",
            " [-0.15419291 -0.48629638 -0.52901952]\n",
            " [-0.00618733 -0.12435261 -0.15226949]]\n",
            "\n",
            " 3. 나의 스코어와 정답 스코어 간 차이: \n",
            "3.680272e-08, 0.000000\n",
            "\n",
            "\n",
            " 4. 나의 손실과 정답 손실 간 차이: \n",
            "0.018965\n"
          ],
          "name": "stdout"
        },
        {
          "output_type": "error",
          "ename": "TypeError",
          "evalue": "ignored",
          "traceback": [
            "\u001b[0;31m---------------------------------------------------------------------------\u001b[0m",
            "\u001b[0;31mTypeError\u001b[0m                                 Traceback (most recent call last)",
            "\u001b[0;32m<ipython-input-12-eab5d9efe086>\u001b[0m in \u001b[0;36m<module>\u001b[0;34m()\u001b[0m\n\u001b[1;32m    242\u001b[0m \u001b[0;32mfor\u001b[0m \u001b[0mparam_name\u001b[0m \u001b[0;32min\u001b[0m \u001b[0mgrads\u001b[0m\u001b[0;34m:\u001b[0m\u001b[0;34m\u001b[0m\u001b[0;34m\u001b[0m\u001b[0m\n\u001b[1;32m    243\u001b[0m     \u001b[0mf\u001b[0m \u001b[0;34m=\u001b[0m \u001b[0;32mlambda\u001b[0m \u001b[0mW\u001b[0m\u001b[0;34m:\u001b[0m \u001b[0mnet\u001b[0m\u001b[0;34m.\u001b[0m\u001b[0mloss\u001b[0m\u001b[0;34m(\u001b[0m\u001b[0mX\u001b[0m\u001b[0;34m,\u001b[0m \u001b[0my\u001b[0m\u001b[0;34m,\u001b[0m \u001b[0mreg\u001b[0m\u001b[0;34m=\u001b[0m\u001b[0;36m0.05\u001b[0m\u001b[0;34m)\u001b[0m\u001b[0;34m\u001b[0m\u001b[0;34m\u001b[0m\u001b[0m\n\u001b[0;32m--> 244\u001b[0;31m     \u001b[0mparam_grad_num\u001b[0m \u001b[0;34m=\u001b[0m \u001b[0meval_numerical_gradient\u001b[0m\u001b[0;34m(\u001b[0m\u001b[0mf\u001b[0m\u001b[0;34m,\u001b[0m \u001b[0mnet\u001b[0m\u001b[0;34m.\u001b[0m\u001b[0mparams\u001b[0m\u001b[0;34m[\u001b[0m\u001b[0mparam_name\u001b[0m\u001b[0;34m]\u001b[0m\u001b[0;34m,\u001b[0m \u001b[0mverbose\u001b[0m\u001b[0;34m=\u001b[0m\u001b[0;32mFalse\u001b[0m\u001b[0;34m)\u001b[0m\u001b[0;34m\u001b[0m\u001b[0;34m\u001b[0m\u001b[0m\n\u001b[0m\u001b[1;32m    245\u001b[0m     \u001b[0mprint\u001b[0m\u001b[0;34m(\u001b[0m\u001b[0;34m'4. %s max relative error: %e'\u001b[0m \u001b[0;34m%\u001b[0m \u001b[0;34m(\u001b[0m \u001b[0mrel_error\u001b[0m\u001b[0;34m(\u001b[0m\u001b[0mparam_grad_num\u001b[0m\u001b[0;34m,\u001b[0m \u001b[0mgrads\u001b[0m\u001b[0;34m[\u001b[0m\u001b[0mparam_name\u001b[0m\u001b[0;34m]\u001b[0m\u001b[0;34m)\u001b[0m\u001b[0;34m)\u001b[0m\u001b[0;34m)\u001b[0m\u001b[0;34m\u001b[0m\u001b[0;34m\u001b[0m\u001b[0m\n\u001b[1;32m    246\u001b[0m \u001b[0;34m\u001b[0m\u001b[0m\n",
            "\u001b[0;32m/content/drive/My Drive/Colab Notebooks/cs231n/assignments/assignment1/cs231n/gradient_check.py\u001b[0m in \u001b[0;36meval_numerical_gradient\u001b[0;34m(f, x, verbose, h)\u001b[0m\n\u001b[1;32m     29\u001b[0m \u001b[0;34m\u001b[0m\u001b[0m\n\u001b[1;32m     30\u001b[0m         \u001b[0;31m# compute the partial derivative with centered formula\u001b[0m\u001b[0;34m\u001b[0m\u001b[0;34m\u001b[0m\u001b[0;34m\u001b[0m\u001b[0m\n\u001b[0;32m---> 31\u001b[0;31m         \u001b[0mgrad\u001b[0m\u001b[0;34m[\u001b[0m\u001b[0mix\u001b[0m\u001b[0;34m]\u001b[0m \u001b[0;34m=\u001b[0m \u001b[0;34m(\u001b[0m\u001b[0mfxph\u001b[0m \u001b[0;34m-\u001b[0m \u001b[0mfxmh\u001b[0m\u001b[0;34m)\u001b[0m \u001b[0;34m/\u001b[0m \u001b[0;34m(\u001b[0m\u001b[0;36m2\u001b[0m \u001b[0;34m*\u001b[0m \u001b[0mh\u001b[0m\u001b[0;34m)\u001b[0m \u001b[0;31m# the slope\u001b[0m\u001b[0;34m\u001b[0m\u001b[0;34m\u001b[0m\u001b[0m\n\u001b[0m\u001b[1;32m     32\u001b[0m         \u001b[0;32mif\u001b[0m \u001b[0mverbose\u001b[0m\u001b[0;34m:\u001b[0m\u001b[0;34m\u001b[0m\u001b[0;34m\u001b[0m\u001b[0m\n\u001b[1;32m     33\u001b[0m             \u001b[0mprint\u001b[0m\u001b[0;34m(\u001b[0m\u001b[0mix\u001b[0m\u001b[0;34m,\u001b[0m \u001b[0mgrad\u001b[0m\u001b[0;34m[\u001b[0m\u001b[0mix\u001b[0m\u001b[0;34m]\u001b[0m\u001b[0;34m)\u001b[0m\u001b[0;34m\u001b[0m\u001b[0;34m\u001b[0m\u001b[0m\n",
            "\u001b[0;31mTypeError\u001b[0m: unsupported operand type(s) for -: 'tuple' and 'tuple'"
          ]
        }
      ]
    },
    {
      "cell_type": "markdown",
      "metadata": {
        "id": "1A-yfujnRRKt",
        "colab_type": "text"
      },
      "source": [
        "# Forward pass: compute loss\n",
        "In the same function, implement the second part that computes the data and regularization loss."
      ]
    },
    {
      "cell_type": "code",
      "metadata": {
        "id": "l9guzBNlRRKt",
        "colab_type": "code",
        "colab": {
          "base_uri": "https://localhost:8080/",
          "height": 68
        },
        "outputId": "9c639c25-6455-4f53-d3ff-e4c52475f538"
      },
      "source": [
        "\n",
        "loss, _ = net.loss(X, y, reg=0.05)\n",
        "correct_loss = 1.30378789133\n",
        "\n",
        "# should be very small, we get < 1e-12\n",
        "print('Difference between your loss and correct loss:')\n",
        "print(np.sum(np.abs(loss - correct_loss)))\n",
        "\n",
        "if 1e-12 > np.sum(np.abs(loss - correct_loss)):\n",
        "    print('옳게 프로그래밍 함')"
      ],
      "execution_count": 5,
      "outputs": [
        {
          "output_type": "stream",
          "text": [
            "Difference between your loss and correct loss:\n",
            "1.7985612998927536e-13\n",
            "옳게 프로그래밍 함\n"
          ],
          "name": "stdout"
        }
      ]
    },
    {
      "cell_type": "markdown",
      "metadata": {
        "id": "ydg0fzMWRRKv",
        "colab_type": "text"
      },
      "source": [
        "## 2. Backward pass<br>\n",
        "##### 남은 함수들을 작성해보라. 이 함수는 변수 'W1', 'b1', W2', 그리고 'b2'에 대한 손실의 그래디언트를 계산할 것이다. 네가 forward pass를 올바르게 작성했다면, 너는 수치적 그래디언트를 사용하여 backward pass를 디버그할 수 있다."
      ]
    },
    {
      "cell_type": "code",
      "metadata": {
        "id": "ECdGmjCdRRKw",
        "colab_type": "code",
        "colab": {
          "base_uri": "https://localhost:8080/",
          "height": 221
        },
        "outputId": "bdd81c10-68d9-4ae3-8e94-192d92aa86bc"
      },
      "source": [
        "from cs231n.gradient_check import eval_numerical_gradient\n",
        "\n",
        "# Use numeric gradient checking to check your implementation of the backward pass.\n",
        "# If your implementation is correct, the difference between the numeric and\n",
        "# analytic gradients should be less than 1e-8 for each of W1, W2, b1, and b2.\n",
        "loss, grads = net.loss(X, y, reg=0.05)\n",
        "\n",
        "\n",
        "# these should all be less than 1e-8 or so\n",
        "for param_name in grads:\n",
        "    f = lambda W: net.loss(X, y, reg=0.05)[0]\n",
        "    param_grad_num = eval_numerical_gradient(f, net.params[param_name], verbose=False)\n",
        "    print('%s max relative error: %e' % (param_name, rel_error(param_grad_num, grads[param_name])))\n",
        "    print('=%f' % ( rel_error(param_grad_num, grads[param_name])))\n",
        "    if (rel_error(param_grad_num, grads[param_name])) < 1e-8:\n",
        "        print('\\n >>>> correct')"
      ],
      "execution_count": 6,
      "outputs": [
        {
          "output_type": "stream",
          "text": [
            "W1 max relative error: 1.000000e+00\n",
            "=1.000000\n",
            "W2 max relative error: 3.440708e-09\n",
            "=0.000000\n",
            "\n",
            " >>>> correct\n",
            "b1 max relative error: 1.000000e+00\n",
            "=1.000000\n",
            "b2 max relative error: 4.447625e-11\n",
            "=0.000000\n",
            "\n",
            " >>>> correct\n"
          ],
          "name": "stdout"
        }
      ]
    },
    {
      "cell_type": "markdown",
      "metadata": {
        "id": "98xvdbjZRRKz",
        "colab_type": "text"
      },
      "source": [
        "# Train the network\n",
        "To train the network we will use stochastic gradient descent (SGD), similar to the SVM and Softmax classifiers. Look at the function `TwoLayerNet.train` and fill in the missing sections to implement the training procedure. This should be very similar to the training procedure you used for the SVM and Softmax classifiers. You will also have to implement `TwoLayerNet.predict`, as the training process periodically performs prediction to keep track of accuracy over time while the network trains.\n",
        "\n",
        "Once you have implemented the method, run the code below to train a two-layer network on toy data. You should achieve a training loss less than 0.02."
      ]
    },
    {
      "cell_type": "code",
      "metadata": {
        "id": "final_training_loss",
        "colab_type": "code",
        "colab": {
          "base_uri": "https://localhost:8080/",
          "height": 530
        },
        "outputId": "cc34d351-3920-43e7-d2f5-e4d887478bdd"
      },
      "source": [
        "net = init_toy_model()\n",
        "stats = net.train(X, y, X, y,\n",
        "            learning_rate=1e-1, reg=5e-6,\n",
        "            num_iters=100, verbose=False)\n",
        "\n",
        "print('Final training loss: ', stats['loss_history'][-1])\n",
        "\n",
        "# plot the loss history\n",
        "plt.plot(stats['loss_history'])\n",
        "plt.xlabel('iteration')\n",
        "plt.ylabel('training loss')\n",
        "plt.title('Training Loss history')\n",
        "plt.show()"
      ],
      "execution_count": 7,
      "outputs": [
        {
          "output_type": "stream",
          "text": [
            "Final training loss:  1.0681514378278365\n"
          ],
          "name": "stdout"
        },
        {
          "output_type": "display_data",
          "data": {
            "image/png": "[encoded data removed]",
            "text/plain": [
              "<Figure size 720x576 with 1 Axes>"
            ]
          },
          "metadata": {
            "tags": [],
            "needs_background": "light"
          }
        }
      ]
    },
    {
      "cell_type": "markdown",
      "metadata": {
        "id": "CFmAA_tmRRK2",
        "colab_type": "text"
      },
      "source": [
        "# Load the data\n",
        "Now that you have implemented a two-layer network that passes gradient checks and works on toy data, it's time to load up our favorite CIFAR-10 data so we can use it to train a classifier on a real dataset."
      ]
    },
    {
      "cell_type": "code",
      "metadata": {
        "tags": [
          "pdf-ignore"
        ],
        "id": "hhT4FV_mRRK3",
        "colab_type": "code",
        "colab": {
          "base_uri": "https://localhost:8080/",
          "height": 119
        },
        "outputId": "4b5c9fbd-8e11-49bd-bb21-30bf5f911253"
      },
      "source": [
        "from cs231n.data_utils import load_CIFAR10\n",
        "\n",
        "def get_CIFAR10_data(num_training=49000, num_validation=1000, num_test=1000):\n",
        "    \"\"\"\n",
        "    Load the CIFAR-10 dataset from disk and perform preprocessing to prepare\n",
        "    it for the two-layer neural net classifier. These are the same steps as\n",
        "    we used for the SVM, but condensed to a single function.  \n",
        "    \"\"\"\n",
        "    # Load the raw CIFAR-10 data\n",
        "    cifar10_dir = '/content/drive/My Drive/Colab Notebooks/cs231n/cifar-10-batches-py'\n",
        "    \n",
        "    # Cleaning up variables to prevent loading data multiple times (which may cause memory issue)\n",
        "    try:\n",
        "       del X_train, y_train\n",
        "       del X_test, y_test\n",
        "       print('Clear previously loaded data.')\n",
        "    except:\n",
        "       pass\n",
        "\n",
        "    X_train, y_train, X_test, y_test = load_CIFAR10(cifar10_dir)\n",
        "        \n",
        "    # Subsample the data\n",
        "    mask = list(range(num_training, num_training + num_validation))\n",
        "    X_val = X_train[mask]\n",
        "    y_val = y_train[mask]\n",
        "    mask = list(range(num_training))\n",
        "    X_train = X_train[mask]\n",
        "    y_train = y_train[mask]\n",
        "    mask = list(range(num_test))\n",
        "    X_test = X_test[mask]\n",
        "    y_test = y_test[mask]\n",
        "\n",
        "    # Normalize the data: subtract the mean image\n",
        "    mean_image = np.mean(X_train, axis=0)\n",
        "    X_train -= mean_image\n",
        "    X_val -= mean_image\n",
        "    X_test -= mean_image\n",
        "\n",
        "    # Reshape data to rows\n",
        "    X_train = X_train.reshape(num_training, -1)\n",
        "    X_val = X_val.reshape(num_validation, -1)\n",
        "    X_test = X_test.reshape(num_test, -1)\n",
        "\n",
        "    return X_train, y_train, X_val, y_val, X_test, y_test\n",
        "\n",
        "\n",
        "# Invoke the above function to get our data.\n",
        "X_train, y_train, X_val, y_val, X_test, y_test = get_CIFAR10_data()\n",
        "print('Train data shape: ', X_train.shape)\n",
        "print('Train labels shape: ', y_train.shape)\n",
        "print('Validation data shape: ', X_val.shape)\n",
        "print('Validation labels shape: ', y_val.shape)\n",
        "print('Test data shape: ', X_test.shape)\n",
        "print('Test labels shape: ', y_test.shape)"
      ],
      "execution_count": 9,
      "outputs": [
        {
          "output_type": "stream",
          "text": [
            "Train data shape:  (49000, 3072)\n",
            "Train labels shape:  (49000,)\n",
            "Validation data shape:  (1000, 3072)\n",
            "Validation labels shape:  (1000,)\n",
            "Test data shape:  (1000, 3072)\n",
            "Test labels shape:  (1000,)\n"
          ],
          "name": "stdout"
        }
      ]
    },
    {
      "cell_type": "markdown",
      "metadata": {
        "id": "HGylmnwTRRK6",
        "colab_type": "text"
      },
      "source": [
        "# Train a network\n",
        "To train our network we will use SGD. In addition, we will adjust the learning rate with an exponential learning rate schedule as optimization proceeds; after each epoch, we will reduce the learning rate by multiplying it by a decay rate."
      ]
    },
    {
      "cell_type": "code",
      "metadata": {
        "tags": [
          "code"
        ],
        "id": "OAaQE3z1RRK6",
        "colab_type": "code",
        "colab": {}
      },
      "source": [
        "input_size = 32 * 32 * 3\n",
        "hidden_size = 50\n",
        "num_classes = 10\n",
        "net = TwoLayerNet(input_size, hidden_size, num_classes)\n",
        "\n",
        "# Train the network\n",
        "stats = net.train(X_train, y_train, X_val, y_val,\n",
        "            num_iters=1000, batch_size=200,\n",
        "            learning_rate=1e-4, learning_rate_decay=0.95,\n",
        "            reg=0.25, verbose=True)\n",
        "\n",
        "# Predict on the validation set\n",
        "val_acc = (net.predict(X_val) == y_val).mean()\n",
        "print('Validation accuracy: ', val_acc)\n"
      ],
      "execution_count": null,
      "outputs": []
    },
    {
      "cell_type": "markdown",
      "metadata": {
        "id": "yuJBs3dXRRK8",
        "colab_type": "text"
      },
      "source": [
        "# Debug the training\n",
        "With the default parameters we provided above, you should get a validation accuracy of about 0.29 on the validation set. This isn't very good.\n",
        "\n",
        "One strategy for getting insight into what's wrong is to plot the loss function and the accuracies on the training and validation sets during optimization.\n",
        "\n",
        "Another strategy is to visualize the weights that were learned in the first layer of the network. In most neural networks trained on visual data, the first layer weights typically show some visible structure when visualized."
      ]
    },
    {
      "cell_type": "code",
      "metadata": {
        "id": "1eX9BGUDRRK9",
        "colab_type": "code",
        "colab": {}
      },
      "source": [
        "# Plot the loss function and train / validation accuracies\n",
        "plt.subplot(2, 1, 1)\n",
        "plt.plot(stats['loss_history'])\n",
        "plt.title('Loss history')\n",
        "plt.xlabel('Iteration')\n",
        "plt.ylabel('Loss')\n",
        "\n",
        "plt.subplot(2, 1, 2)\n",
        "plt.plot(stats['train_acc_history'], label='train')\n",
        "plt.plot(stats['val_acc_history'], label='val')\n",
        "plt.title('Classification accuracy history')\n",
        "plt.xlabel('Epoch')\n",
        "plt.ylabel('Classification accuracy')\n",
        "plt.legend()\n",
        "plt.show()"
      ],
      "execution_count": null,
      "outputs": []
    },
    {
      "cell_type": "code",
      "metadata": {
        "id": "JblXQBrERRK_",
        "colab_type": "code",
        "colab": {}
      },
      "source": [
        "from cs231n.vis_utils import visualize_grid\n",
        "\n",
        "# Visualize the weights of the network\n",
        "\n",
        "def show_net_weights(net):\n",
        "    W1 = net.params['W1']\n",
        "    W1 = W1.reshape(32, 32, 3, -1).transpose(3, 0, 1, 2)\n",
        "    plt.imshow(visualize_grid(W1, padding=3).astype('uint8'))\n",
        "    plt.gca().axis('off')\n",
        "    plt.show()\n",
        "\n",
        "show_net_weights(net)"
      ],
      "execution_count": null,
      "outputs": []
    },
    {
      "cell_type": "markdown",
      "metadata": {
        "id": "TJKr7x3fRRLC",
        "colab_type": "text"
      },
      "source": [
        "# Tune your hyperparameters\n",
        "\n",
        "**What's wrong?**. Looking at the visualizations above, we see that the loss is decreasing more or less linearly, which seems to suggest that the learning rate may be too low. Moreover, there is no gap between the training and validation accuracy, suggesting that the model we used has low capacity, and that we should increase its size. On the other hand, with a very large model we would expect to see more overfitting, which would manifest itself as a very large gap between the training and validation accuracy.\n",
        "\n",
        "**Tuning**. Tuning the hyperparameters and developing intuition for how they affect the final performance is a large part of using Neural Networks, so we want you to get a lot of practice. Below, you should experiment with different values of the various hyperparameters, including hidden layer size, learning rate, numer of training epochs, and regularization strength. You might also consider tuning the learning rate decay, but you should be able to get good performance using the default value.\n",
        "\n",
        "**Approximate results**. You should be aim to achieve a classification accuracy of greater than 48% on the validation set. Our best network gets over 52% on the validation set.\n",
        "\n",
        "**Experiment**: You goal in this exercise is to get as good of a result on CIFAR-10 as you can (52% could serve as a reference), with a fully-connected Neural Network. Feel free implement your own techniques (e.g. PCA to reduce dimensionality, or adding dropout, or adding features to the solver, etc.)."
      ]
    },
    {
      "cell_type": "markdown",
      "metadata": {
        "tags": [
          "pdf-inline"
        ],
        "id": "zQIDc_HpRRLD",
        "colab_type": "text"
      },
      "source": [
        "**Explain your hyperparameter tuning process below.**\n",
        "\n",
        "$\\color{blue}{\\textit Your Answer:}$"
      ]
    },
    {
      "cell_type": "code",
      "metadata": {
        "tags": [
          "code"
        ],
        "id": "z8CAAK8xRRLD",
        "colab_type": "code",
        "colab": {}
      },
      "source": [
        "best_net = None # store the best model into this \n",
        "\n",
        "#################################################################################\n",
        "# TODO: Tune hyperparameters using the validation set. Store your best trained  #\n",
        "# model in best_net.                                                            #\n",
        "#                                                                               #\n",
        "# To help debug your network, it may help to use visualizations similar to the  #\n",
        "# ones we used above; these visualizations will have significant qualitative    #\n",
        "# differences from the ones we saw above for the poorly tuned network.          #\n",
        "#                                                                               #\n",
        "# Tweaking hyperparameters by hand can be fun, but you might find it useful to  #\n",
        "# write code to sweep through possible combinations of hyperparameters          #\n",
        "# automatically like we did on the previous exercises.                          #\n",
        "#################################################################################\n",
        "# *****START OF YOUR CODE (DO NOT DELETE/MODIFY THIS LINE)*****\n",
        "\n",
        "pass\n",
        "\n",
        "# *****END OF YOUR CODE (DO NOT DELETE/MODIFY THIS LINE)*****\n"
      ],
      "execution_count": null,
      "outputs": []
    },
    {
      "cell_type": "code",
      "metadata": {
        "id": "val_accuracy",
        "colab_type": "code",
        "colab": {}
      },
      "source": [
        "# Print your validation accuracy: this should be above 48%\n",
        "val_acc = (best_net.predict(X_val) == y_val).mean()\n",
        "print('Validation accuracy: ', val_acc)"
      ],
      "execution_count": null,
      "outputs": []
    },
    {
      "cell_type": "code",
      "metadata": {
        "id": "R7qvAf_9RRLH",
        "colab_type": "code",
        "colab": {}
      },
      "source": [
        "# Visualize the weights of the best network\n",
        "show_net_weights(best_net)"
      ],
      "execution_count": null,
      "outputs": []
    },
    {
      "cell_type": "markdown",
      "metadata": {
        "id": "GqL2ZjQ9RRLK",
        "colab_type": "text"
      },
      "source": [
        "# Run on the test set\n",
        "When you are done experimenting, you should evaluate your final trained network on the test set; you should get above 48%."
      ]
    },
    {
      "cell_type": "code",
      "metadata": {
        "id": "test_accuracy",
        "colab_type": "code",
        "colab": {}
      },
      "source": [
        "# Print your test accuracy: this should be above 48%\n",
        "test_acc = (best_net.predict(X_test) == y_test).mean()\n",
        "print('Test accuracy: ', test_acc)"
      ],
      "execution_count": null,
      "outputs": []
    },
    {
      "cell_type": "markdown",
      "metadata": {
        "tags": [
          "pdf-inline"
        ],
        "id": "koKt8ShcRRLM",
        "colab_type": "text"
      },
      "source": [
        "**Inline Question**\n",
        "\n",
        "Now that you have trained a Neural Network classifier, you may find that your testing accuracy is much lower than the training accuracy. In what ways can we decrease this gap? Select all that apply.\n",
        "\n",
        "1. Train on a larger dataset.\n",
        "2. Add more hidden units.\n",
        "3. Increase the regularization strength.\n",
        "4. None of the above.\n",
        "\n",
        "$\\color{blue}{\\textit Your Answer:}$\n",
        "\n",
        "$\\color{blue}{\\textit Your Explanation:}$\n",
        "\n"
      ]
    }
  ]
}